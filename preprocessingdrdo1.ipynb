{
 "cells": [
  {
   "cell_type": "code",
   "execution_count": 2,
   "metadata": {},
   "outputs": [
    {
     "name": "stdout",
     "output_type": "stream",
     "text": [
      "Requirement already satisfied: mne in c:\\users\\shash\\appdata\\local\\programs\\python\\python310\\lib\\site-packages (1.2.1)Note: you may need to restart the kernel to use updated packages.\n",
      "\n",
      "Requirement already satisfied: jinja2 in c:\\users\\shash\\appdata\\local\\programs\\python\\python310\\lib\\site-packages (from mne) (3.1.2)\n",
      "Requirement already satisfied: tqdm in c:\\users\\shash\\appdata\\local\\programs\\python\\python310\\lib\\site-packages (from mne) (4.64.1)\n",
      "Requirement already satisfied: decorator in c:\\users\\shash\\appdata\\local\\programs\\python\\python310\\lib\\site-packages (from mne) (5.1.1)\n",
      "Requirement already satisfied: pooch>=1.5 in c:\\users\\shash\\appdata\\local\\programs\\python\\python310\\lib\\site-packages (from mne) (1.6.0)\n",
      "Requirement already satisfied: packaging in c:\\users\\shash\\appdata\\local\\programs\\python\\python310\\lib\\site-packages (from mne) (21.3)\n",
      "Requirement already satisfied: numpy>=1.15.4 in c:\\users\\shash\\appdata\\local\\programs\\python\\python310\\lib\\site-packages (from mne) (1.23.4)\n",
      "Requirement already satisfied: matplotlib in c:\\users\\shash\\appdata\\local\\programs\\python\\python310\\lib\\site-packages (from mne) (3.6.1)\n",
      "Requirement already satisfied: scipy>=1.1.0 in c:\\users\\shash\\appdata\\local\\programs\\python\\python310\\lib\\site-packages (from mne) (1.9.3)\n",
      "Requirement already satisfied: appdirs>=1.3.0 in c:\\users\\shash\\appdata\\local\\programs\\python\\python310\\lib\\site-packages (from pooch>=1.5->mne) (1.4.4)\n",
      "Requirement already satisfied: requests>=2.19.0 in c:\\users\\shash\\appdata\\local\\programs\\python\\python310\\lib\\site-packages (from pooch>=1.5->mne) (2.28.1)\n",
      "Requirement already satisfied: pyparsing!=3.0.5,>=2.0.2 in c:\\users\\shash\\appdata\\local\\programs\\python\\python310\\lib\\site-packages (from packaging->mne) (3.0.9)\n",
      "Requirement already satisfied: MarkupSafe>=2.0 in c:\\users\\shash\\appdata\\local\\programs\\python\\python310\\lib\\site-packages (from jinja2->mne) (2.1.1)\n",
      "Requirement already satisfied: kiwisolver>=1.0.1 in c:\\users\\shash\\appdata\\local\\programs\\python\\python310\\lib\\site-packages (from matplotlib->mne) (1.4.4)\n",
      "Requirement already satisfied: python-dateutil>=2.7 in c:\\users\\shash\\appdata\\local\\programs\\python\\python310\\lib\\site-packages (from matplotlib->mne) (2.8.2)\n",
      "Requirement already satisfied: pillow>=6.2.0 in c:\\users\\shash\\appdata\\local\\programs\\python\\python310\\lib\\site-packages (from matplotlib->mne) (9.2.0)\n",
      "Requirement already satisfied: cycler>=0.10 in c:\\users\\shash\\appdata\\local\\programs\\python\\python310\\lib\\site-packages (from matplotlib->mne) (0.11.0)\n",
      "Requirement already satisfied: fonttools>=4.22.0 in c:\\users\\shash\\appdata\\local\\programs\\python\\python310\\lib\\site-packages (from matplotlib->mne) (4.38.0)\n",
      "Requirement already satisfied: contourpy>=1.0.1 in c:\\users\\shash\\appdata\\local\\programs\\python\\python310\\lib\\site-packages (from matplotlib->mne) (1.0.5)\n",
      "Requirement already satisfied: colorama in c:\\users\\shash\\appdata\\local\\programs\\python\\python310\\lib\\site-packages (from tqdm->mne) (0.4.5)\n",
      "Requirement already satisfied: six>=1.5 in c:\\users\\shash\\appdata\\local\\programs\\python\\python310\\lib\\site-packages (from python-dateutil>=2.7->matplotlib->mne) (1.16.0)\n",
      "Requirement already satisfied: certifi>=2017.4.17 in c:\\users\\shash\\appdata\\local\\programs\\python\\python310\\lib\\site-packages (from requests>=2.19.0->pooch>=1.5->mne) (2022.9.24)\n",
      "Requirement already satisfied: urllib3<1.27,>=1.21.1 in c:\\users\\shash\\appdata\\local\\programs\\python\\python310\\lib\\site-packages (from requests>=2.19.0->pooch>=1.5->mne) (1.26.12)\n",
      "Requirement already satisfied: charset-normalizer<3,>=2 in c:\\users\\shash\\appdata\\local\\programs\\python\\python310\\lib\\site-packages (from requests>=2.19.0->pooch>=1.5->mne) (2.1.1)\n",
      "Requirement already satisfied: idna<4,>=2.5 in c:\\users\\shash\\appdata\\local\\programs\\python\\python310\\lib\\site-packages (from requests>=2.19.0->pooch>=1.5->mne) (3.4)\n"
     ]
    }
   ],
   "source": [
    "pip install mne"
   ]
  },
  {
   "cell_type": "code",
   "execution_count": 3,
   "metadata": {},
   "outputs": [
    {
     "name": "stdout",
     "output_type": "stream",
     "text": [
      "Requirement already satisfied: PyQt5 in c:\\users\\shash\\appdata\\local\\programs\\python\\python310\\lib\\site-packages (5.15.7)Note: you may need to restart the kernel to use updated packages.\n",
      "\n",
      "Requirement already satisfied: PyQt5-Qt5>=5.15.0 in c:\\users\\shash\\appdata\\local\\programs\\python\\python310\\lib\\site-packages (from PyQt5) (5.15.2)\n",
      "Requirement already satisfied: PyQt5-sip<13,>=12.11 in c:\\users\\shash\\appdata\\local\\programs\\python\\python310\\lib\\site-packages (from PyQt5) (12.11.0)\n"
     ]
    }
   ],
   "source": [
    "pip install PyQt5"
   ]
  },
  {
   "cell_type": "code",
   "execution_count": 4,
   "metadata": {},
   "outputs": [],
   "source": [
    "import os\n",
    "import numpy as np\n",
    "import matplotlib.pyplot as plt\n",
    "from itertools import compress\n",
    "from scipy.io import loadmat\n",
    "import mne\n",
    "import numpy as np\n",
    "import matplotlib\n",
    "import matplotlib.pyplot as plt"
   ]
  },
  {
   "cell_type": "code",
   "execution_count": 5,
   "metadata": {},
   "outputs": [
    {
     "name": "stdout",
     "output_type": "stream",
     "text": [
      "Collecting matplotlib-venn\n",
      "  Downloading matplotlib-venn-0.11.7.tar.gz (29 kB)\n",
      "  Preparing metadata (setup.py): started\n",
      "  Preparing metadata (setup.py): finished with status 'done'\n",
      "Requirement already satisfied: matplotlib in c:\\users\\shash\\appdata\\local\\programs\\python\\python310\\lib\\site-packages (from matplotlib-venn) (3.6.1)\n",
      "Requirement already satisfied: numpy in c:\\users\\shash\\appdata\\local\\programs\\python\\python310\\lib\\site-packages (from matplotlib-venn) (1.23.4)\n",
      "Requirement already satisfied: scipy in c:\\users\\shash\\appdata\\local\\programs\\python\\python310\\lib\\site-packages (from matplotlib-venn) (1.9.3)\n",
      "Requirement already satisfied: pillow>=6.2.0 in c:\\users\\shash\\appdata\\local\\programs\\python\\python310\\lib\\site-packages (from matplotlib->matplotlib-venn) (9.2.0)\n",
      "Requirement already satisfied: python-dateutil>=2.7 in c:\\users\\shash\\appdata\\local\\programs\\python\\python310\\lib\\site-packages (from matplotlib->matplotlib-venn) (2.8.2)\n",
      "Requirement already satisfied: fonttools>=4.22.0 in c:\\users\\shash\\appdata\\local\\programs\\python\\python310\\lib\\site-packages (from matplotlib->matplotlib-venn) (4.38.0)\n",
      "Requirement already satisfied: contourpy>=1.0.1 in c:\\users\\shash\\appdata\\local\\programs\\python\\python310\\lib\\site-packages (from matplotlib->matplotlib-venn) (1.0.5)\n",
      "Requirement already satisfied: pyparsing>=2.2.1 in c:\\users\\shash\\appdata\\local\\programs\\python\\python310\\lib\\site-packages (from matplotlib->matplotlib-venn) (3.0.9)\n",
      "Requirement already satisfied: packaging>=20.0 in c:\\users\\shash\\appdata\\local\\programs\\python\\python310\\lib\\site-packages (from matplotlib->matplotlib-venn) (21.3)\n",
      "Requirement already satisfied: kiwisolver>=1.0.1 in c:\\users\\shash\\appdata\\local\\programs\\python\\python310\\lib\\site-packages (from matplotlib->matplotlib-venn) (1.4.4)\n",
      "Requirement already satisfied: cycler>=0.10 in c:\\users\\shash\\appdata\\local\\programs\\python\\python310\\lib\\site-packages (from matplotlib->matplotlib-venn) (0.11.0)\n",
      "Requirement already satisfied: six>=1.5 in c:\\users\\shash\\appdata\\local\\programs\\python\\python310\\lib\\site-packages (from python-dateutil>=2.7->matplotlib->matplotlib-venn) (1.16.0)\n",
      "Installing collected packages: matplotlib-venn\n",
      "  Running setup.py install for matplotlib-venn: started\n",
      "  Running setup.py install for matplotlib-venn: finished with status 'done'\n",
      "Successfully installed matplotlib-venn-0.11.7\n"
     ]
    },
    {
     "name": "stderr",
     "output_type": "stream",
     "text": [
      "  DEPRECATION: matplotlib-venn is being installed using the legacy 'setup.py install' method, because it does not have a 'pyproject.toml' and the 'wheel' package is not installed. pip 23.1 will enforce this behaviour change. A possible replacement is to enable the '--use-pep517' option. Discussion can be found at https://github.com/pypa/pip/issues/8559\n"
     ]
    }
   ],
   "source": [
    "!pip install matplotlib-venn"
   ]
  },
  {
   "cell_type": "code",
   "execution_count": 6,
   "metadata": {},
   "outputs": [
    {
     "name": "stderr",
     "output_type": "stream",
     "text": [
      "'apt-get' is not recognized as an internal or external command,\n",
      "operable program or batch file.\n"
     ]
    }
   ],
   "source": [
    "!apt-get -qq install -y libfluidsynth1"
   ]
  },
  {
   "cell_type": "code",
   "execution_count": 7,
   "metadata": {},
   "outputs": [
    {
     "data": {
      "text/plain": [
       "<contextlib.ExitStack at 0x166b2c3e920>"
      ]
     },
     "execution_count": 7,
     "metadata": {},
     "output_type": "execute_result"
    }
   ],
   "source": [
    "matplotlib.use('Qt5Agg')\n",
    "# %matplotlib widget,\n",
    "# %matplotlib qt\n",
    "plt.ion() "
   ]
  },
  {
   "cell_type": "code",
   "execution_count": 8,
   "metadata": {},
   "outputs": [],
   "source": [
    "samplesfile = loadmat(r'cnt_nback.mat')  \n",
    "marker_file = loadmat(r'mrk_nback.mat')\n",
    "montage_file = loadmat(r'mnt_nback.mat')"
   ]
  },
  {
   "cell_type": "code",
   "execution_count": 9,
   "metadata": {},
   "outputs": [],
   "source": [
    "event_number = marker_file['mrk_nback']['event'][0][0][0][0][0],\n",
    "event_time = marker_file['mrk_nback']['time'][0][0][0]"
   ]
  },
  {
   "cell_type": "code",
   "execution_count": 10,
   "metadata": {},
   "outputs": [],
   "source": [
    "from array import *\n",
    "import numpy as np"
   ]
  },
  {
   "cell_type": "code",
   "execution_count": 11,
   "metadata": {},
   "outputs": [],
   "source": [
    "from scipy.io import loadmat"
   ]
  },
  {
   "cell_type": "code",
   "execution_count": 14,
   "metadata": {},
   "outputs": [],
   "source": [
    "file_path=('mnt_gonogo.mat')"
   ]
  },
  {
   "cell_type": "code",
   "execution_count": 17,
   "metadata": {},
   "outputs": [],
   "source": [
    "raw=loadmat('mnt_gonogo.mat')"
   ]
  },
  {
   "cell_type": "code",
   "execution_count": 18,
   "metadata": {},
   "outputs": [
    {
     "name": "stdout",
     "output_type": "stream",
     "text": [
      "{'__header__': b'MATLAB 5.0 MAT-file, Platform: PCWIN64, Created on: Wed Oct 26 01:18:38 2016', '__version__': '1.0', '__globals__': [], 'mnt_gonogo': array([[(array([[-0.45307366],\n",
      "               [-0.41573604],\n",
      "               [-0.34961638],\n",
      "               [-0.28927158],\n",
      "               [-0.17652319],\n",
      "               [-0.21147809],\n",
      "               [-0.11731759],\n",
      "               [-0.        ],\n",
      "               [-0.        ],\n",
      "               [ 0.11731759],\n",
      "               [ 0.17652319],\n",
      "               [-0.3802771 ],\n",
      "               [-0.28812577],\n",
      "               [-0.4804436 ],\n",
      "               [-0.38040826],\n",
      "               [-0.3479364 ],\n",
      "               [-0.2401691 ],\n",
      "               [-0.39699732],\n",
      "               [-0.28094274],\n",
      "               [ 0.21147809],\n",
      "               [ 0.28927158],\n",
      "               [ 0.41573604],\n",
      "               [ 0.34961638],\n",
      "               [ 0.45307366],\n",
      "               [ 0.3802771 ],\n",
      "               [ 0.4804436 ],\n",
      "               [ 0.28812577],\n",
      "               [ 0.38040826],\n",
      "               [ 0.34792365],\n",
      "               [ 0.39699732],\n",
      "               [ 0.24011659],\n",
      "               [ 0.28094274],\n",
      "               [-0.        ],\n",
      "               [-0.11739803],\n",
      "               [ 0.11746414],\n",
      "               [-0.        ]]), array([[ 6.23573655e-01],\n",
      "               [ 5.11404688e-01],\n",
      "               [ 6.86141390e-01],\n",
      "               [ 5.90832467e-01],\n",
      "               [ 6.73223421e-01],\n",
      "               [ 4.87300788e-01],\n",
      "               [ 5.78059209e-01],\n",
      "               [ 4.80531667e-01],\n",
      "               [ 6.70879507e-01],\n",
      "               [ 5.78059209e-01],\n",
      "               [ 6.73223421e-01],\n",
      "               [ 1.00467056e-01],\n",
      "               [ 1.03829106e-04],\n",
      "               [ 5.78081578e-05],\n",
      "               [-1.00363494e-01],\n",
      "               [-2.99524884e-01],\n",
      "               [-3.91207384e-01],\n",
      "               [-4.05357116e-01],\n",
      "               [-4.92903726e-01],\n",
      "               [ 4.87300788e-01],\n",
      "               [ 5.90832467e-01],\n",
      "               [ 5.11404688e-01],\n",
      "               [ 6.86141390e-01],\n",
      "               [ 6.23573655e-01],\n",
      "               [ 1.00467056e-01],\n",
      "               [ 5.78081578e-05],\n",
      "               [ 1.03829106e-04],\n",
      "               [-1.00363494e-01],\n",
      "               [-2.99456955e-01],\n",
      "               [-4.05357116e-01],\n",
      "               [-3.91271571e-01],\n",
      "               [-4.92903726e-01],\n",
      "               [-4.80003606e-01],\n",
      "               [-5.78207426e-01],\n",
      "               [-5.78221794e-01],\n",
      "               [-6.70389749e-01]]), array([[-5.878e-01, -6.149e-01, -4.540e-01, -4.284e-01, -2.508e-01,\n",
      "                -3.520e-01, -1.857e-01, -0.000e+00, -0.000e+00,  1.857e-01,\n",
      "                 2.508e-01, -6.957e-01, -5.550e-01, -8.311e-01, -6.959e-01,\n",
      "                -6.109e-01, -4.217e-01, -6.411e-01, -4.537e-01,  3.520e-01,\n",
      "                 4.284e-01,  6.149e-01,  4.540e-01,  5.878e-01,  6.957e-01,\n",
      "                 8.311e-01,  5.550e-01,  6.959e-01,  6.109e-01,  6.411e-01,\n",
      "                 4.216e-01,  4.537e-01, -0.000e+00, -1.858e-01,  1.859e-01,\n",
      "                -0.000e+00],\n",
      "               [ 8.090e-01,  7.564e-01,  8.910e-01,  8.750e-01,  9.565e-01,\n",
      "                 8.111e-01,  9.150e-01,  8.312e-01,  9.799e-01,  9.150e-01,\n",
      "                 9.565e-01,  1.838e-01,  2.000e-04,  1.000e-04, -1.836e-01,\n",
      "                -5.259e-01, -6.869e-01, -6.546e-01, -7.960e-01,  8.111e-01,\n",
      "                 8.750e-01,  7.564e-01,  8.910e-01,  8.090e-01,  1.838e-01,\n",
      "                 1.000e-04,  2.000e-04, -1.836e-01, -5.258e-01, -6.546e-01,\n",
      "                -6.870e-01, -7.960e-01, -8.306e-01, -9.151e-01, -9.151e-01,\n",
      "                -9.797e-01],\n",
      "               [ 0.000e+00,  2.206e-01,  0.000e+00,  2.213e-01,  1.438e-01,\n",
      "                 4.658e-01,  3.558e-01,  5.554e-01,  1.949e-01,  3.558e-01,\n",
      "                 1.437e-01,  6.933e-01,  8.306e-01,  5.552e-01,  6.936e-01,\n",
      "                 5.904e-01,  5.912e-01,  3.985e-01,  3.995e-01,  4.658e-01,\n",
      "                 2.212e-01,  2.206e-01,  0.000e+00,  0.000e+00,  6.933e-01,\n",
      "                 5.552e-01,  8.306e-01,  6.936e-01,  5.904e-01,  3.985e-01,\n",
      "                 5.912e-01,  3.995e-01,  5.551e-01,  3.559e-01,  3.559e-01,\n",
      "                 1.949e-01]]), array([[array(['AF7'], dtype='<U3'), array(['AFF5'], dtype='<U4'),\n",
      "                array(['AFp7'], dtype='<U4'), array(['AF5h'], dtype='<U4'),\n",
      "                array(['AFp3'], dtype='<U4'), array(['AFF3h'], dtype='<U5'),\n",
      "                array(['AF1'], dtype='<U3'), array(['AFFz'], dtype='<U4'),\n",
      "                array(['AFpz'], dtype='<U4'), array(['AF2'], dtype='<U3'),\n",
      "                array(['AFp4'], dtype='<U4'), array(['FCC3'], dtype='<U4'),\n",
      "                array(['C3h'], dtype='<U3'), array(['C5h'], dtype='<U3'),\n",
      "                array(['CCP3'], dtype='<U4'), array(['CPP3'], dtype='<U4'),\n",
      "                array(['P3h'], dtype='<U3'), array(['P5h'], dtype='<U3'),\n",
      "                array(['PPO3'], dtype='<U4'), array(['AFF4h'], dtype='<U5'),\n",
      "                array(['AF6h'], dtype='<U4'), array(['AFF6'], dtype='<U4'),\n",
      "                array(['AFp8'], dtype='<U4'), array(['AF8'], dtype='<U3'),\n",
      "                array(['FCC4'], dtype='<U4'), array(['C6h'], dtype='<U3'),\n",
      "                array(['C4h'], dtype='<U3'), array(['CCP4'], dtype='<U4'),\n",
      "                array(['CPP4'], dtype='<U4'), array(['P6h'], dtype='<U3'),\n",
      "                array(['P4h'], dtype='<U3'), array(['PPO4'], dtype='<U4'),\n",
      "                array(['PPOz'], dtype='<U4'), array(['PO1'], dtype='<U3'),\n",
      "                array(['PO2'], dtype='<U3'), array(['POOz'], dtype='<U4')]],\n",
      "              dtype=object))                                                                           ]],\n",
      "      dtype=[('x', 'O'), ('y', 'O'), ('pos_3d', 'O'), ('clab', 'O')])}\n"
     ]
    }
   ],
   "source": [
    "print(raw)"
   ]
  },
  {
   "cell_type": "code",
   "execution_count": 19,
   "metadata": {},
   "outputs": [
    {
     "data": {
      "text/plain": [
       "array([  46560,  116160,  185568,  255168,  324576,  394176,  463776,\n",
       "        533280,  602496,  750820,  820324,  890020,  959524, 1028836,\n",
       "       1098244, 1167748, 1237348, 1306948, 1456336, 1525936, 1595344,\n",
       "       1664848, 1734352, 1803952, 1873360, 1942960, 2012464])"
      ]
     },
     "execution_count": 19,
     "metadata": {},
     "output_type": "execute_result"
    }
   ],
   "source": [
    "marker_file['mrk_nback']['time'][0][0][0]"
   ]
  },
  {
   "cell_type": "code",
   "execution_count": 20,
   "metadata": {},
   "outputs": [],
   "source": [
    "chan = samplesfile['cnt_nback']['oxy'][0][0][0][0][4]\n",
    "ch_names = []\n",
    "for i in chan[0]:\n",
    "   ch_names.append(i[0])"
   ]
  },
  {
   "cell_type": "code",
   "execution_count": 21,
   "metadata": {},
   "outputs": [
    {
     "data": {
      "text/plain": [
       "36"
      ]
     },
     "execution_count": 21,
     "metadata": {},
     "output_type": "execute_result"
    }
   ],
   "source": [
    "len(ch_names)"
   ]
  },
  {
   "cell_type": "code",
   "execution_count": 22,
   "metadata": {},
   "outputs": [],
   "source": [
    " # Create some dummy metadata,\n",
    "n_channels = 36\n",
    "sampling_freq = 10.417666  # in Hertz\\n\",\n",
    "ch_types_oxy = ['hbo']*len(ch_names)\n",
    "ch_types_deoxy = ['hbr']*len(ch_names)"
   ]
  },
  {
   "cell_type": "code",
   "execution_count": 23,
   "metadata": {},
   "outputs": [
    {
     "data": {
      "text/plain": [
       "36"
      ]
     },
     "execution_count": 23,
     "metadata": {},
     "output_type": "execute_result"
    }
   ],
   "source": [
    "len(ch_types_oxy)"
   ]
  },
  {
   "cell_type": "code",
   "execution_count": 24,
   "metadata": {},
   "outputs": [
    {
     "data": {
      "text/plain": [
       "36"
      ]
     },
     "execution_count": 24,
     "metadata": {},
     "output_type": "execute_result"
    }
   ],
   "source": [
    "len(ch_types_deoxy)"
   ]
  },
  {
   "cell_type": "code",
   "execution_count": 25,
   "metadata": {},
   "outputs": [],
   "source": [
    "info_oxy = mne.create_info(ch_names, ch_types=ch_types_oxy, sfreq=sampling_freq)\n",
    "info_deoxy = mne.create_info(ch_names, ch_types=ch_types_deoxy, sfreq=sampling_freq)"
   ]
  },
  {
   "cell_type": "code",
   "execution_count": 26,
   "metadata": {},
   "outputs": [],
   "source": [
    "fNIRS_oxy = samplesfile['cnt_nback']['oxy'][0][0][0][0][5]\n",
    "fNIRS_oxy_raw = np.transpose(fNIRS_oxy)\n",
    "fNIRS_deoxy = samplesfile['cnt_nback']['deoxy'][0][0][0][0][5]\n",
    "fNIRS_deoxy_raw = np.transpose(fNIRS_deoxy)"
   ]
  },
  {
   "cell_type": "code",
   "execution_count": 27,
   "metadata": {},
   "outputs": [
    {
     "data": {
      "text/plain": [
       "(21178, 36)"
      ]
     },
     "execution_count": 27,
     "metadata": {},
     "output_type": "execute_result"
    }
   ],
   "source": [
    "samplesfile['cnt_nback']['oxy'][0][0][0][0][5].shape"
   ]
  },
  {
   "cell_type": "code",
   "execution_count": 28,
   "metadata": {},
   "outputs": [
    {
     "name": "stdout",
     "output_type": "stream",
     "text": [
      "Creating RawArray with float64 data, n_channels=36, n_times=21178\n",
      "    Range : 0 ... 21177 =      0.000 ...  2032.797 secs\n",
      "Ready.\n",
      "Creating RawArray with float64 data, n_channels=36, n_times=21178\n",
      "    Range : 0 ... 21177 =      0.000 ...  2032.797 secs\n",
      "Ready.\n"
     ]
    }
   ],
   "source": [
    "raw_oxy = mne.io.RawArray(fNIRS_oxy_raw/1000, info_oxy)\n",
    "#raw_oxy.set_montage(TUB_fnirs_montage)\n",
    "raw_deoxy = mne.io.RawArray(fNIRS_deoxy_raw/1000, info_deoxy)\n",
    "#raw_deoxy.set_montage(TUB_fnirs_montage)"
   ]
  },
  {
   "cell_type": "code",
   "execution_count": 29,
   "metadata": {},
   "outputs": [
    {
     "name": "stdout",
     "output_type": "stream",
     "text": [
      "Using matplotlib as 2D backend.\n"
     ]
    },
    {
     "data": {
      "text/plain": [
       "<MNEBrowseFigure size 800x800 with 4 Axes>"
      ]
     },
     "execution_count": 29,
     "metadata": {},
     "output_type": "execute_result"
    },
    {
     "name": "stdout",
     "output_type": "stream",
     "text": [
      "Channels marked as bad:\n",
      "none\n",
      "Channels marked as bad:\n",
      "none\n"
     ]
    }
   ],
   "source": [
    "raw_oxy.plot(n_channels=2)\n",
    "raw_deoxy.plot(n_channels=2)"
   ]
  },
  {
   "cell_type": "code",
   "execution_count": 30,
   "metadata": {},
   "outputs": [
    {
     "name": "stdout",
     "output_type": "stream",
     "text": [
      "NOTE: plot_psd() is a legacy function. New code should use .compute_psd().plot().\n",
      "Effective window size : 24.574 (s)\n",
      "Filtering raw data in 1 contiguous segment\n",
      "Setting up band-pass filter from 0.05 - 0.7 Hz\n",
      "\n",
      "FIR filter parameters\n",
      "---------------------\n",
      "Designing a one-pass, zero-phase, non-causal bandpass filter:\n",
      "- Windowed time-domain design (firwin) method\n",
      "- Hamming window with 0.0194 passband ripple and 53 dB stopband attenuation\n",
      "- Lower passband edge: 0.05\n",
      "- Lower transition bandwidth: 0.02 Hz (-6 dB cutoff frequency: 0.04 Hz)\n",
      "- Upper passband edge: 0.70 Hz\n",
      "- Upper transition bandwidth: 0.20 Hz (-6 dB cutoff frequency: 0.80 Hz)\n",
      "- Filter length: 1719 samples (165.008 sec)\n",
      "\n",
      "NOTE: plot_psd() is a legacy function. New code should use .compute_psd().plot().\n",
      "Effective window size : 24.574 (s)\n"
     ]
    }
   ],
   "source": [
    "fig = raw_oxy.plot_psd(average=True)\n",
    "fig.suptitle('Before filtering', weight='bold', size='x-large')\n",
    "fig.subplots_adjust(top=0.88)\n",
    "raw_haemo = raw_oxy.filter(0.05, 0.7, h_trans_bandwidth=0.2,l_trans_bandwidth=0.02)\n",
    "fig = raw_oxy.plot_psd(average=True)\n",
    "fig.suptitle('After filtering', weight='bold', size='x-large')\n",
    "fig.subplots_adjust(top=0.88)"
   ]
  },
  {
   "cell_type": "code",
   "execution_count": 31,
   "metadata": {},
   "outputs": [
    {
     "name": "stdout",
     "output_type": "stream",
     "text": [
      "Collecting kwargsNote: you may need to restart the kernel to use updated packages.\n",
      "\n",
      "  Downloading kwargs-1.0.1-py3-none-any.whl (4.1 kB)\n",
      "Installing collected packages: kwargs\n",
      "Successfully installed kwargs-1.0.1\n"
     ]
    }
   ],
   "source": [
    "pip install kwargs"
   ]
  },
  {
   "cell_type": "code",
   "execution_count": 32,
   "metadata": {},
   "outputs": [
    {
     "name": "stdout",
     "output_type": "stream",
     "text": [
      "Collecting argsNote: you may need to restart the kernel to use updated packages.\n",
      "\n",
      "  Downloading args-0.1.0.tar.gz (3.0 kB)\n",
      "  Preparing metadata (setup.py): started\n",
      "  Preparing metadata (setup.py): finished with status 'done'\n",
      "Installing collected packages: args\n",
      "  Running setup.py install for args: started\n",
      "  Running setup.py install for args: finished with status 'done'\n",
      "Successfully installed args-0.1.0\n"
     ]
    },
    {
     "name": "stderr",
     "output_type": "stream",
     "text": [
      "  DEPRECATION: args is being installed using the legacy 'setup.py install' method, because it does not have a 'pyproject.toml' and the 'wheel' package is not installed. pip 23.1 will enforce this behaviour change. A possible replacement is to enable the '--use-pep517' option. Discussion can be found at https://github.com/pypa/pip/issues/8559\n"
     ]
    }
   ],
   "source": [
    "pip install args"
   ]
  },
  {
   "cell_type": "code",
   "execution_count": 33,
   "metadata": {},
   "outputs": [],
   "source": [
    "event_time = event_time.reshape(27,1)\n",
    "zer = np.zeros((27, 1))\n",
    "event_number = np.asarray(event_number)\n",
    "event_number = event_number.reshape(27,1)\n",
    "event = np.concatenate((event_time,zer, event_number), axis=1).astype(int)"
   ]
  },
  {
   "cell_type": "code",
   "execution_count": 34,
   "metadata": {},
   "outputs": [
    {
     "data": {
      "text/plain": [
       "(27, 1)"
      ]
     },
     "execution_count": 34,
     "metadata": {},
     "output_type": "execute_result"
    }
   ],
   "source": [
    "event_time.shape"
   ]
  },
  {
   "cell_type": "code",
   "execution_count": 35,
   "metadata": {},
   "outputs": [
    {
     "data": {
      "text/plain": [
       "({'Stimulus/S 7': 7, 'Stimulus/S 8': 8, 'Stimulus/S 9': 9},)"
      ]
     },
     "execution_count": 35,
     "metadata": {},
     "output_type": "execute_result"
    }
   ],
   "source": [
    "events_ids = {\n",
    "'Stimulus/S 7': 7,\n",
    "'Stimulus/S 8': 8,\n",
    "'Stimulus/S 9': 9},\n",
    "events_ids"
   ]
  },
  {
   "cell_type": "code",
   "execution_count": 36,
   "metadata": {},
   "outputs": [
    {
     "ename": "AttributeError",
     "evalue": "'tuple' object has no attribute 'items'",
     "output_type": "error",
     "traceback": [
      "\u001b[1;31m---------------------------------------------------------------------------\u001b[0m",
      "\u001b[1;31mAttributeError\u001b[0m                            Traceback (most recent call last)",
      "Cell \u001b[1;32mIn [36], line 1\u001b[0m\n\u001b[1;32m----> 1\u001b[0m mne\u001b[39m.\u001b[39;49mviz\u001b[39m.\u001b[39;49mplot_events(event, event_id \u001b[39m=\u001b[39;49m events_ids, sfreq\u001b[39m=\u001b[39;49mraw_oxy\u001b[39m.\u001b[39;49minfo[\u001b[39m'\u001b[39;49m\u001b[39msfreq\u001b[39;49m\u001b[39m'\u001b[39;49m])\n",
      "File \u001b[1;32m<decorator-gen-152>:12\u001b[0m, in \u001b[0;36mplot_events\u001b[1;34m(events, sfreq, first_samp, color, event_id, axes, equal_spacing, show, on_missing, verbose)\u001b[0m\n",
      "File \u001b[1;32mc:\\Users\\shash\\AppData\\Local\\Programs\\Python\\Python310\\lib\\site-packages\\mne\\viz\\misc.py:683\u001b[0m, in \u001b[0;36mplot_events\u001b[1;34m(events, sfreq, first_samp, color, event_id, axes, equal_spacing, show, on_missing, verbose)\u001b[0m\n\u001b[0;32m    678\u001b[0m unique_events \u001b[39m=\u001b[39m np\u001b[39m.\u001b[39munique(events[:, \u001b[39m2\u001b[39m])\n\u001b[0;32m    680\u001b[0m \u001b[39mif\u001b[39;00m event_id \u001b[39mis\u001b[39;00m \u001b[39mnot\u001b[39;00m \u001b[39mNone\u001b[39;00m:\n\u001b[0;32m    681\u001b[0m     \u001b[39m# get labels and unique event ids from event_id dict,\u001b[39;00m\n\u001b[0;32m    682\u001b[0m     \u001b[39m# sorted by value\u001b[39;00m\n\u001b[1;32m--> 683\u001b[0m     event_id_rev \u001b[39m=\u001b[39m {v: k \u001b[39mfor\u001b[39;00m k, v \u001b[39min\u001b[39;00m event_id\u001b[39m.\u001b[39;49mitems()}\n\u001b[0;32m    684\u001b[0m     conditions, unique_events_id \u001b[39m=\u001b[39m \u001b[39mzip\u001b[39m(\u001b[39m*\u001b[39m\u001b[39msorted\u001b[39m(event_id\u001b[39m.\u001b[39mitems(),\n\u001b[0;32m    685\u001b[0m                                                key\u001b[39m=\u001b[39m\u001b[39mlambda\u001b[39;00m x: x[\u001b[39m1\u001b[39m]))\n\u001b[0;32m    687\u001b[0m     keep \u001b[39m=\u001b[39m np\u001b[39m.\u001b[39mones(\u001b[39mlen\u001b[39m(unique_events_id), \u001b[39mbool\u001b[39m)\n",
      "\u001b[1;31mAttributeError\u001b[0m: 'tuple' object has no attribute 'items'"
     ]
    }
   ],
   "source": [
    "mne.viz.plot_events(event, event_id = events_ids, sfreq=raw_oxy.info['sfreq'])"
   ]
  },
  {
   "cell_type": "code",
   "execution_count": null,
   "metadata": {},
   "outputs": [],
   "source": []
  }
 ],
 "metadata": {
  "kernelspec": {
   "display_name": "Python 3.10.4 64-bit",
   "language": "python",
   "name": "python3"
  },
  "language_info": {
   "codemirror_mode": {
    "name": "ipython",
    "version": 3
   },
   "file_extension": ".py",
   "mimetype": "text/x-python",
   "name": "python",
   "nbconvert_exporter": "python",
   "pygments_lexer": "ipython3",
   "version": "3.10.4"
  },
  "orig_nbformat": 4,
  "vscode": {
   "interpreter": {
    "hash": "d81a42d5823b98c4b3be6aa8208eb4a45c9349533e6f763db2ee9a27690b2ae3"
   }
  }
 },
 "nbformat": 4,
 "nbformat_minor": 2
}
